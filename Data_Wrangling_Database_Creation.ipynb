{
 "cells": [
  {
   "cell_type": "code",
   "execution_count": 28,
   "metadata": {},
   "outputs": [],
   "source": [
    "%matplotlib inline\n",
    "import ast\n",
    "from bs4 import BeautifulSoup\n",
    "import csv\n",
    "import json\n",
    "import matplotlib.pyplot as plt\n",
    "import numpy as np\n",
    "from numpy.polynomial.polynomial import polyfit\n",
    "import pandas as pd\n",
    "import re\n",
    "import requests\n",
    "from scipy import stats\n",
    "import seaborn as sns\n",
    "import sqlite3\n",
    "from sqlite3 import Error\n",
    "import time\n",
    "import datetime\n",
    "from config import api_key_tmdb"
   ]
  },
  {
   "cell_type": "code",
   "execution_count": 45,
   "metadata": {},
   "outputs": [],
   "source": [
    "# Importing the IMDB movies file\n",
    "data = \"/Users/florencialeoni/Documents/flatironDS/Mod_1_FP/mod1_movies/imdb_movies_data.csv\"\n",
    "use_cols = [\"imdb_id\", \"title\", \"imdb_score\", \"meta_score\", \"year\"]\n",
    "\n",
    "# Using pandas.read_csv method to load the file\n",
    "imdb_df = pd.read_csv(data, usecols = use_cols)"
   ]
  },
  {
   "cell_type": "code",
   "execution_count": 41,
   "metadata": {},
   "outputs": [],
   "source": [
    "# Replace missing data in the \"imdb_score\" and \"meta_score\" columns with NumPy NaN values\n",
    "imdb_df[\"imdb_score\"] = imdb_df[\"imdb_score\"].replace(\" \", np.nan)\n",
    "imdb_df[\"meta_score\"] = imdb_df[\"meta_score\"].replace(\" \", np.nan)"
   ]
  },
  {
   "cell_type": "code",
   "execution_count": 59,
   "metadata": {},
   "outputs": [],
   "source": [
    "# Importing the TMDB Movies file\n",
    "data = \"/Users/florencialeoni/Documents/flatironDS/Mod_1_FP/mod1_movies/tmdb_movies_cast_df.csv\"\n",
    "use_cols = [\"id\", \"imdb_id\", \"title\", \"belongs_to_collection\", \"budget\", \"genres\",  \"overview\", \"release_date\", \n",
    "                   \"revenue\", \"tagline\", \"vote_average\", \"vote_count\", \"runtime\", \"popularity\", \"production_companies\"]\n",
    "\n",
    "# Using pandas.read_csv method to load the file\n",
    "tmdb_df = pd.read_csv(data, lineterminator='\\n')\n",
    "tmdb_df = tmdb_df.set_index(\"id\")\n"
   ]
  },
  {
   "cell_type": "code",
   "execution_count": 70,
   "metadata": {},
   "outputs": [],
   "source": [
    "# Using pandas.to_numeric to coerce the \"id\", \"budget\" and \"revenue\" columns into numbers\n",
    "tmdb_df[\"budget\"] = pd.to_numeric(tmdb_df[\"budget\"], downcast = \"integer\", errors = \"coerce\")\n",
    "tmdb_df[\"revenue\"] = pd.to_numeric(tmdb_df[\"revenue\"], downcast = \"integer\", errors = \"coerce\")\n",
    "\n",
    "# Lambda function to strip and split \"release_date\" string values\n",
    "f = lambda x: str(x).strip().split('-')[0] if x != np.nan else np.nan\n",
    "\n",
    "# Creating a new column, \"year\", and assigninf the value of \"release_date\" \n",
    "# After applying the lambda function through map\n",
    "tmdb_df[\"year\"] = tmdb_df[\"release_date\"].map(f)\n",
    "\n",
    "# Coerce the \"year\" column to integers\n",
    "tmdb_df[\"year\"] = pd.to_numeric(tmdb_df[\"year\"], errors = \"coerce\")\n",
    "\n",
    "# Convert \"release_date\" column to datetime format\n",
    "tmdb_df[\"release_date\"] = pd.to_datetime(tmdb_df[\"release_date\"])"
   ]
  },
  {
   "cell_type": "code",
   "execution_count": 71,
   "metadata": {},
   "outputs": [],
   "source": [
    "# Divide \"release_date\" column in days and months\n",
    "tmdb_df[\"month_of_year\"] = tmdb_df[\"release_date\"].dt.month_name()\n",
    "tmdb_df[\"day_of_week\"] = tmdb_df[\"release_date\"].dt.day_name()"
   ]
  },
  {
   "cell_type": "code",
   "execution_count": 74,
   "metadata": {},
   "outputs": [],
   "source": [
    "tmdb_df = tmdb_df.drop([\"release_date\"], axis=1)"
   ]
  },
  {
   "cell_type": "code",
   "execution_count": 75,
   "metadata": {
    "scrolled": true
   },
   "outputs": [
    {
     "name": "stdout",
     "output_type": "stream",
     "text": [
      "<class 'pandas.core.frame.DataFrame'>\n",
      "Int64Index: 8603 entries, 324857 to 56443\n",
      "Data columns (total 20 columns):\n",
      "title                    8603 non-null object\n",
      "belongs_to_collection    1516 non-null object\n",
      "budget                   2529 non-null float64\n",
      "genres                   8138 non-null object\n",
      "imdb_id                  8603 non-null object\n",
      "overview                 8529 non-null object\n",
      "revenue                  2020 non-null float64\n",
      "tagline                  4544 non-null object\n",
      "vote_average             7944 non-null float64\n",
      "vote_count               7956 non-null float64\n",
      "runtime                  8118 non-null float64\n",
      "popularity               8603 non-null float64\n",
      "production_companies     6793 non-null object\n",
      "director_name            4691 non-null object\n",
      "director_gender          4691 non-null float64\n",
      "leading_actor_name       4314 non-null object\n",
      "supporting_actor_name    4607 non-null object\n",
      "year                     8557 non-null float64\n",
      "month_of_year            8557 non-null object\n",
      "day_of_week              8557 non-null object\n",
      "dtypes: float64(8), object(12)\n",
      "memory usage: 1.4+ MB\n"
     ]
    }
   ],
   "source": [
    "tmdb_df.info()"
   ]
  },
  {
   "cell_type": "code",
   "execution_count": 61,
   "metadata": {},
   "outputs": [],
   "source": [
    "# Function to create a new SQLite3 Database\n",
    "def create_connection(db_file):\n",
    "    try:\n",
    "        conn = sqlite3.connect(db_file)\n",
    "    except Error as e:\n",
    "        print(e)\n",
    "    finally:\n",
    "        conn.close()"
   ]
  },
  {
   "cell_type": "code",
   "execution_count": 62,
   "metadata": {},
   "outputs": [],
   "source": [
    "# Use create_connection function to create Database\n",
    "create_connection(\"/Users/florencialeoni/Documents/flatironDS/Mod_1_FP/mod1_movies/movies.db\")"
   ]
  },
  {
   "cell_type": "code",
   "execution_count": 63,
   "metadata": {},
   "outputs": [],
   "source": [
    "# Create a connection object using the connect function \n",
    "# To establish a connection with \"movies.db\"\n",
    "connection = sqlite3.connect(\"movies.db\")\n",
    "# Create a cursor object by calling the cursor method\n",
    "cursor = connection.cursor()"
   ]
  },
  {
   "cell_type": "code",
   "execution_count": 65,
   "metadata": {},
   "outputs": [],
   "source": [
    "# Write records stored in the imdb_df DataFrame to a SQL database\n",
    "imdb_df.to_sql(\"imdb_movies\", con = connection)"
   ]
  },
  {
   "cell_type": "code",
   "execution_count": 64,
   "metadata": {},
   "outputs": [],
   "source": [
    "# Write records stored in the tmdb_df DataFrame to a SQL database\n",
    "tmdb_df.to_sql(\"tmdb_movies\", con = connection)"
   ]
  },
  {
   "cell_type": "code",
   "execution_count": null,
   "metadata": {},
   "outputs": [],
   "source": []
  }
 ],
 "metadata": {
  "kernelspec": {
   "display_name": "Python 3",
   "language": "python",
   "name": "python3"
  },
  "language_info": {
   "codemirror_mode": {
    "name": "ipython",
    "version": 3
   },
   "file_extension": ".py",
   "mimetype": "text/x-python",
   "name": "python",
   "nbconvert_exporter": "python",
   "pygments_lexer": "ipython3",
   "version": "3.7.1"
  }
 },
 "nbformat": 4,
 "nbformat_minor": 2
}
